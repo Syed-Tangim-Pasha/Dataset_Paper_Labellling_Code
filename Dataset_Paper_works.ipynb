{
  "nbformat": 4,
  "nbformat_minor": 0,
  "metadata": {
    "colab": {
      "provenance": [],
      "collapsed_sections": []
    },
    "kernelspec": {
      "name": "python3",
      "display_name": "Python 3"
    },
    "language_info": {
      "name": "python"
    }
  },
  "cells": [
    {
      "cell_type": "code",
      "execution_count": null,
      "metadata": {
        "id": "2H-TLguzcod0"
      },
      "outputs": [],
      "source": [
        "import numpy as np\n",
        "import pandas as pd"
      ]
    },
    {
      "cell_type": "code",
      "source": [
        "pm=pd.read_csv('SAHITTO.csv')\n",
        "pm.head()"
      ],
      "metadata": {
        "id": "flLA0ndpdIaH",
        "colab": {
          "base_uri": "https://localhost:8080/",
          "height": 206
        },
        "outputId": "c7d99f77-cca3-4020-f9eb-74126f10349a"
      },
      "execution_count": null,
      "outputs": [
        {
          "output_type": "execute_result",
          "data": {
            "text/plain": [
              "                    title                                               poem  \\\n",
              "0        সেই ছেলে হবে কবে  আমাদের দেশে সেই ছেলে হবে কবে যারা কোথায় না বড় ...   \n",
              "1  সন্ত্রাসীদের প্রথম পাঠ  অ অজ্ঞান পার্টি অজ্ঞান পার্টি আসছে ঐ আ আগুন আগ...   \n",
              "2       পারো তো ধর্ষণ করো  আর ধর্ষিতা হয়ো না, আর না আর যেন কোনও দুঃসংবাদ ...   \n",
              "3                  ফেস অফ  মেয়েটি আসছে মুখটি পোড়া মুখটি এখন আর মুখের মত দ...   \n",
              "4                  মন উঠো  মন তুমি ওঠো, ওঠো তুমি, তুমি ওঠো মন, মন মন মন ও...   \n",
              "\n",
              "               writer   label  \n",
              "0  মুহম্মদ জাফর ইকবাল  Policy  \n",
              "1  মুহম্মদ জাফর ইকবাল  Policy  \n",
              "2       তসলিমা নাসরিন  Policy  \n",
              "3       তসলিমা নাসরিন  Policy  \n",
              "4       তসলিমা নাসরিন  Policy  "
            ],
            "text/html": [
              "\n",
              "  <div id=\"df-58c04c8a-7591-4f80-a660-c7e3b478a14a\">\n",
              "    <div class=\"colab-df-container\">\n",
              "      <div>\n",
              "<style scoped>\n",
              "    .dataframe tbody tr th:only-of-type {\n",
              "        vertical-align: middle;\n",
              "    }\n",
              "\n",
              "    .dataframe tbody tr th {\n",
              "        vertical-align: top;\n",
              "    }\n",
              "\n",
              "    .dataframe thead th {\n",
              "        text-align: right;\n",
              "    }\n",
              "</style>\n",
              "<table border=\"1\" class=\"dataframe\">\n",
              "  <thead>\n",
              "    <tr style=\"text-align: right;\">\n",
              "      <th></th>\n",
              "      <th>title</th>\n",
              "      <th>poem</th>\n",
              "      <th>writer</th>\n",
              "      <th>label</th>\n",
              "    </tr>\n",
              "  </thead>\n",
              "  <tbody>\n",
              "    <tr>\n",
              "      <th>0</th>\n",
              "      <td>সেই ছেলে হবে কবে</td>\n",
              "      <td>আমাদের দেশে সেই ছেলে হবে কবে যারা কোথায় না বড় ...</td>\n",
              "      <td>মুহম্মদ জাফর ইকবাল</td>\n",
              "      <td>Policy</td>\n",
              "    </tr>\n",
              "    <tr>\n",
              "      <th>1</th>\n",
              "      <td>সন্ত্রাসীদের প্রথম পাঠ</td>\n",
              "      <td>অ অজ্ঞান পার্টি অজ্ঞান পার্টি আসছে ঐ আ আগুন আগ...</td>\n",
              "      <td>মুহম্মদ জাফর ইকবাল</td>\n",
              "      <td>Policy</td>\n",
              "    </tr>\n",
              "    <tr>\n",
              "      <th>2</th>\n",
              "      <td>পারো তো ধর্ষণ করো</td>\n",
              "      <td>আর ধর্ষিতা হয়ো না, আর না আর যেন কোনও দুঃসংবাদ ...</td>\n",
              "      <td>তসলিমা নাসরিন</td>\n",
              "      <td>Policy</td>\n",
              "    </tr>\n",
              "    <tr>\n",
              "      <th>3</th>\n",
              "      <td>ফেস অফ</td>\n",
              "      <td>মেয়েটি আসছে মুখটি পোড়া মুখটি এখন আর মুখের মত দ...</td>\n",
              "      <td>তসলিমা নাসরিন</td>\n",
              "      <td>Policy</td>\n",
              "    </tr>\n",
              "    <tr>\n",
              "      <th>4</th>\n",
              "      <td>মন উঠো</td>\n",
              "      <td>মন তুমি ওঠো, ওঠো তুমি, তুমি ওঠো মন, মন মন মন ও...</td>\n",
              "      <td>তসলিমা নাসরিন</td>\n",
              "      <td>Policy</td>\n",
              "    </tr>\n",
              "  </tbody>\n",
              "</table>\n",
              "</div>\n",
              "      <button class=\"colab-df-convert\" onclick=\"convertToInteractive('df-58c04c8a-7591-4f80-a660-c7e3b478a14a')\"\n",
              "              title=\"Convert this dataframe to an interactive table.\"\n",
              "              style=\"display:none;\">\n",
              "        \n",
              "  <svg xmlns=\"http://www.w3.org/2000/svg\" height=\"24px\"viewBox=\"0 0 24 24\"\n",
              "       width=\"24px\">\n",
              "    <path d=\"M0 0h24v24H0V0z\" fill=\"none\"/>\n",
              "    <path d=\"M18.56 5.44l.94 2.06.94-2.06 2.06-.94-2.06-.94-.94-2.06-.94 2.06-2.06.94zm-11 1L8.5 8.5l.94-2.06 2.06-.94-2.06-.94L8.5 2.5l-.94 2.06-2.06.94zm10 10l.94 2.06.94-2.06 2.06-.94-2.06-.94-.94-2.06-.94 2.06-2.06.94z\"/><path d=\"M17.41 7.96l-1.37-1.37c-.4-.4-.92-.59-1.43-.59-.52 0-1.04.2-1.43.59L10.3 9.45l-7.72 7.72c-.78.78-.78 2.05 0 2.83L4 21.41c.39.39.9.59 1.41.59.51 0 1.02-.2 1.41-.59l7.78-7.78 2.81-2.81c.8-.78.8-2.07 0-2.86zM5.41 20L4 18.59l7.72-7.72 1.47 1.35L5.41 20z\"/>\n",
              "  </svg>\n",
              "      </button>\n",
              "      \n",
              "  <style>\n",
              "    .colab-df-container {\n",
              "      display:flex;\n",
              "      flex-wrap:wrap;\n",
              "      gap: 12px;\n",
              "    }\n",
              "\n",
              "    .colab-df-convert {\n",
              "      background-color: #E8F0FE;\n",
              "      border: none;\n",
              "      border-radius: 50%;\n",
              "      cursor: pointer;\n",
              "      display: none;\n",
              "      fill: #1967D2;\n",
              "      height: 32px;\n",
              "      padding: 0 0 0 0;\n",
              "      width: 32px;\n",
              "    }\n",
              "\n",
              "    .colab-df-convert:hover {\n",
              "      background-color: #E2EBFA;\n",
              "      box-shadow: 0px 1px 2px rgba(60, 64, 67, 0.3), 0px 1px 3px 1px rgba(60, 64, 67, 0.15);\n",
              "      fill: #174EA6;\n",
              "    }\n",
              "\n",
              "    [theme=dark] .colab-df-convert {\n",
              "      background-color: #3B4455;\n",
              "      fill: #D2E3FC;\n",
              "    }\n",
              "\n",
              "    [theme=dark] .colab-df-convert:hover {\n",
              "      background-color: #434B5C;\n",
              "      box-shadow: 0px 1px 3px 1px rgba(0, 0, 0, 0.15);\n",
              "      filter: drop-shadow(0px 1px 2px rgba(0, 0, 0, 0.3));\n",
              "      fill: #FFFFFF;\n",
              "    }\n",
              "  </style>\n",
              "\n",
              "      <script>\n",
              "        const buttonEl =\n",
              "          document.querySelector('#df-58c04c8a-7591-4f80-a660-c7e3b478a14a button.colab-df-convert');\n",
              "        buttonEl.style.display =\n",
              "          google.colab.kernel.accessAllowed ? 'block' : 'none';\n",
              "\n",
              "        async function convertToInteractive(key) {\n",
              "          const element = document.querySelector('#df-58c04c8a-7591-4f80-a660-c7e3b478a14a');\n",
              "          const dataTable =\n",
              "            await google.colab.kernel.invokeFunction('convertToInteractive',\n",
              "                                                     [key], {});\n",
              "          if (!dataTable) return;\n",
              "\n",
              "          const docLinkHtml = 'Like what you see? Visit the ' +\n",
              "            '<a target=\"_blank\" href=https://colab.research.google.com/notebooks/data_table.ipynb>data table notebook</a>'\n",
              "            + ' to learn more about interactive tables.';\n",
              "          element.innerHTML = '';\n",
              "          dataTable['output_type'] = 'display_data';\n",
              "          await google.colab.output.renderOutput(dataTable, element);\n",
              "          const docLink = document.createElement('div');\n",
              "          docLink.innerHTML = docLinkHtml;\n",
              "          element.appendChild(docLink);\n",
              "        }\n",
              "      </script>\n",
              "    </div>\n",
              "  </div>\n",
              "  "
            ]
          },
          "metadata": {},
          "execution_count": 3
        }
      ]
    },
    {
      "cell_type": "code",
      "source": [
        "pm.label.unique()"
      ],
      "metadata": {
        "id": "ePjpe96CfVIq",
        "colab": {
          "base_uri": "https://localhost:8080/"
        },
        "outputId": "5196522d-0c97-4611-aa2f-83e224e139f6"
      },
      "execution_count": null,
      "outputs": [
        {
          "output_type": "execute_result",
          "data": {
            "text/plain": [
              "array(['Policy', 'Religious', 'War', 'Humanity', 'Nature',\n",
              "       'Miscellaneous', 'Love', 'Metaphor', 'Separation', 'Children',\n",
              "       'Patriotic'], dtype=object)"
            ]
          },
          "metadata": {},
          "execution_count": 4
        }
      ]
    },
    {
      "cell_type": "code",
      "source": [
        "from sklearn.preprocessing import LabelEncoder"
      ],
      "metadata": {
        "id": "K7HHvwSjnJ6X"
      },
      "execution_count": null,
      "outputs": []
    },
    {
      "cell_type": "code",
      "source": [
        "le=LabelEncoder()\n",
        "\n",
        "pm['label']=le.fit_transform(pm['label'])"
      ],
      "metadata": {
        "id": "-yEqXxg9obwj"
      },
      "execution_count": null,
      "outputs": []
    },
    {
      "cell_type": "code",
      "source": [
        "pm.label.unique()"
      ],
      "metadata": {
        "colab": {
          "base_uri": "https://localhost:8080/"
        },
        "id": "nMeSwTEWoj_B",
        "outputId": "042a0d89-6ab2-4ac4-94af-e2d661d5467a"
      },
      "execution_count": null,
      "outputs": [
        {
          "output_type": "execute_result",
          "data": {
            "text/plain": [
              "array([ 7,  8, 10,  1,  5,  4,  2,  3,  9,  0,  6])"
            ]
          },
          "metadata": {},
          "execution_count": 7
        }
      ]
    },
    {
      "cell_type": "code",
      "source": [
        "pm.label.value_counts()"
      ],
      "metadata": {
        "id": "NzC4xU_m3H7K",
        "outputId": "c60d66ec-c684-4ea7-f6fc-4a5e7993bb9a",
        "colab": {
          "base_uri": "https://localhost:8080/"
        }
      },
      "execution_count": null,
      "outputs": [
        {
          "output_type": "execute_result",
          "data": {
            "text/plain": [
              "4     811\n",
              "2     500\n",
              "3     316\n",
              "9     131\n",
              "1      79\n",
              "0      78\n",
              "6      76\n",
              "7      67\n",
              "8      62\n",
              "5      55\n",
              "10     32\n",
              "Name: label, dtype: int64"
            ]
          },
          "metadata": {},
          "execution_count": 8
        }
      ]
    },
    {
      "cell_type": "code",
      "source": [
        "import matplotlib.pyplot as plt\n",
        "import seaborn as sns"
      ],
      "metadata": {
        "id": "NE90UeTUKxeI"
      },
      "execution_count": null,
      "outputs": []
    },
    {
      "cell_type": "code",
      "source": [
        "plt.figure(figsize=(10,10))\n",
        "ax=sns.countplot(x=pm['label'], data=pm,order=pm['label'].value_counts().index)"
      ],
      "metadata": {
        "id": "YHBOv3IJKuiO",
        "colab": {
          "base_uri": "https://localhost:8080/",
          "height": 606
        },
        "outputId": "72032da3-8a98-4ee4-8674-476b54cc4ba3"
      },
      "execution_count": null,
      "outputs": [
        {
          "output_type": "display_data",
          "data": {
            "text/plain": [
              "<Figure size 720x720 with 1 Axes>"
            ],
            "image/png": "[encoded data removed]"
          },
          "metadata": {
            "needs_background": "light"
          }
        }
      ]
    },
    {
      "cell_type": "code",
      "source": [
        "pm.writer.nunique()"
      ],
      "metadata": {
        "colab": {
          "base_uri": "https://localhost:8080/"
        },
        "id": "TFdAW20b4ogz",
        "outputId": "d1256336-8597-4b4f-828d-651d6ee92df1"
      },
      "execution_count": null,
      "outputs": [
        {
          "output_type": "execute_result",
          "data": {
            "text/plain": [
              "40"
            ]
          },
          "metadata": {},
          "execution_count": 11
        }
      ]
    },
    {
      "cell_type": "code",
      "source": [
        "pm.writer.value_counts()"
      ],
      "metadata": {
        "colab": {
          "base_uri": "https://localhost:8080/"
        },
        "id": "TYacvUCS3V2s",
        "outputId": "e5453e68-5f6b-4ba3-e7b3-aea6fab6ef08"
      },
      "execution_count": null,
      "outputs": [
        {
          "output_type": "execute_result",
          "data": {
            "text/plain": [
              "রবীন্দ্রনাথ ঠাকুর             251\n",
              "মহাদেব সাহা                   244\n",
              "নীরেন্দ্রনাথ চক্রবর্তী        186\n",
              "পূর্ণেন্দু পত্রী              185\n",
              "সুনীল গঙ্গোপাধ্যায়           161\n",
              "কাজী নজরুল ইসলাম              139\n",
              "জীবনানন্দ দাশ                 136\n",
              "জসীম উদ্‌দীন                  123\n",
              "জয় গোস্বামী                   95\n",
              "সুকান্ত ভট্টাচার্য             83\n",
              "তসলিমা নাসরিন                  79\n",
              "হেলাল হাফিজ                    67\n",
              "শক্তি চট্টোপাধ্যায়            51\n",
              "সুকুমার রায়                   49\n",
              "দেওয়ান মমিনুল মউজদীন           45\n",
              "নির্মলেন্দু গুণ                30\n",
              "হুমায়ুন আজাদ                  30\n",
              "রুদ্র মুহম্মদ শহীদুল্লাহ       24\n",
              "শামসুর রাহমান                  24\n",
              "মুহম্মদ জাফর ইকবাল             22\n",
              "বঙ্কিমচন্দ্র চট্টোপাধ্যায়     22\n",
              "সৈয়দ শামসুল হক                18\n",
              "মাইকেল মধুসূদন দত্ত            16\n",
              "সুফিয়া কামাল                  15\n",
              "রফিক আজাদ                      14\n",
              "হুমায়ূন আহমেদ                 13\n",
              "শঙ্খ ঘোষ                       12\n",
              "আবুল হাসান                     11\n",
              "মলয় রায়চৌধুরী                10\n",
              "সত্যেন্দ্রনাথ দত্ত             10\n",
              "আসাদ চৌধুরী                     9\n",
              "তানভীর মুহাম্মদ ত্বকী           7\n",
              "যোগীন্দ্রনাথ সরকার              7\n",
              "আনিসুল হক                       6\n",
              "যতীন্দ্রমোহন বাগচী              4\n",
              "গোবিন্দচন্দ্র দাস               3\n",
              "নবকৃষ্ণ ভট্টাচার্য              2\n",
              "আ. ন. ম. বজলুর রশীদ             2\n",
              "রোকনুজ্জামান খান                1\n",
              "আলাউদ্দিন আল আজাদ               1\n",
              "Name: writer, dtype: int64"
            ]
          },
          "metadata": {},
          "execution_count": 12
        }
      ]
    },
    {
      "cell_type": "code",
      "source": [
        "le=LabelEncoder()\n",
        "\n",
        "pm['writer']=le.fit_transform(pm['writer'])"
      ],
      "metadata": {
        "id": "IzBfhVZcy2pS"
      },
      "execution_count": null,
      "outputs": []
    },
    {
      "cell_type": "code",
      "source": [
        "pm.writer.unique()"
      ],
      "metadata": {
        "colab": {
          "base_uri": "https://localhost:8080/"
        },
        "id": "2PENa6DSy2rl",
        "outputId": "856e03fc-c66f-4c3e-9ff0-e637959eac4a"
      },
      "execution_count": null,
      "outputs": [
        {
          "output_type": "execute_result",
          "data": {
            "text/plain": [
              "array([21, 10, 25, 19, 16, 32, 17,  9,  5, 26, 31, 35,  7,  4, 39, 12, 28,\n",
              "        8, 30, 14, 34, 11, 37, 24,  1,  6, 20, 38, 15, 36, 18, 29, 33, 22,\n",
              "       23,  2, 13,  0, 27,  3])"
            ]
          },
          "metadata": {},
          "execution_count": 14
        }
      ]
    },
    {
      "cell_type": "code",
      "source": [
        "pm.writer.value_counts()"
      ],
      "metadata": {
        "colab": {
          "base_uri": "https://localhost:8080/"
        },
        "id": "BYycjmOj4sOO",
        "outputId": "fe8355d6-8e75-4e47-ca59-6ad2107fcec7"
      },
      "execution_count": null,
      "outputs": [
        {
          "output_type": "execute_result",
          "data": {
            "text/plain": [
              "25    251\n",
              "19    244\n",
              "15    186\n",
              "16    185\n",
              "34    161\n",
              "5     139\n",
              "9     136\n",
              "8     123\n",
              "7      95\n",
              "32     83\n",
              "10     79\n",
              "39     67\n",
              "28     51\n",
              "33     49\n",
              "12     45\n",
              "14     30\n",
              "37     30\n",
              "26     24\n",
              "30     24\n",
              "21     22\n",
              "17     22\n",
              "36     18\n",
              "20     16\n",
              "35     15\n",
              "24     14\n",
              "38     13\n",
              "29     12\n",
              "2      11\n",
              "18     10\n",
              "31     10\n",
              "4       9\n",
              "11      7\n",
              "23      7\n",
              "1       6\n",
              "22      4\n",
              "6       3\n",
              "13      2\n",
              "0       2\n",
              "27      1\n",
              "3       1\n",
              "Name: writer, dtype: int64"
            ]
          },
          "metadata": {},
          "execution_count": 15
        }
      ]
    },
    {
      "cell_type": "code",
      "source": [
        "plt.figure(figsize=(20,20))\n",
        "ax=sns.countplot(x=pm['writer'], data=pm,order=pm['writer'].value_counts().index)"
      ],
      "metadata": {
        "colab": {
          "base_uri": "https://localhost:8080/",
          "height": 1000
        },
        "id": "8dOZYYLiy2mT",
        "outputId": "9e14f0fc-e5da-4af6-ae30-e78e21606a47"
      },
      "execution_count": null,
      "outputs": [
        {
          "output_type": "display_data",
          "data": {
            "text/plain": [
              "<Figure size 1440x1440 with 1 Axes>"
            ],
            "image/png": "[encoded data removed]"
          },
          "metadata": {
            "needs_background": "light"
          }
        }
      ]
    }
  ]
}